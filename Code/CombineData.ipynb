{
 "cells": [
  {
   "cell_type": "code",
   "execution_count": 1,
   "metadata": {},
   "outputs": [],
   "source": [
    "import pandas as pd"
   ]
  },
  {
   "cell_type": "code",
   "execution_count": 2,
   "metadata": {},
   "outputs": [],
   "source": [
    "AW = pd.read_csv('..\\Data\\PropertyDetails_Applewood.csv')\n",
    "CH = pd.read_csv('..\\Data\\PropertyDetails_ClarendonHills.csv')\n",
    "LPA = pd.read_csv('..\\Data\\PropertyDetails_LaPorteAve.csv')\n",
    "LMI = pd.read_csv('..\\Data\\PropertyDetails_Loomis.csv')\n",
    "MTN = pd.read_csv('..\\Data\\PropertyDetails_MountainAve.csv')\n",
    "OAK = pd.read_csv('..\\Data\\PropertyDetails_OakSt.csv')\n",
    "SHW = pd.read_csv('..\\Data\\PropertyDetails_Sherwood.csv')\n",
    "WST = pd.read_csv('..\\Data\\PropertyDetails_WestSide.csv')\n",
    "Data = pd.concat([AW, CH, LPA, LMI, MTN, OAK, SHW, WST])\n",
    "Data.columns = Data.columns.str.strip()\n",
    "Data = Data[Data['occdescr'].str.contains('Single Family', na=False)]\n",
    "Data = Data.drop(['mhserialno'], axis=1)\n",
    "Data.drop_duplicates(subset=['locationaddress'], inplace=True)\n",
    "Data.head()\n",
    "Data.to_csv('..\\Data\\CombinedData.csv', index=False)\n",
    "\n"
   ]
  }
 ],
 "metadata": {
  "kernelspec": {
   "display_name": "base",
   "language": "python",
   "name": "python3"
  },
  "language_info": {
   "codemirror_mode": {
    "name": "ipython",
    "version": 3
   },
   "file_extension": ".py",
   "mimetype": "text/x-python",
   "name": "python",
   "nbconvert_exporter": "python",
   "pygments_lexer": "ipython3",
   "version": "3.7.6"
  }
 },
 "nbformat": 4,
 "nbformat_minor": 2
}
